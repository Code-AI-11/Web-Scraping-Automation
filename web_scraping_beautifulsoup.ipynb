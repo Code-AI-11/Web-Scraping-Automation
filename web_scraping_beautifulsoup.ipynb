{
  "nbformat": 4,
  "nbformat_minor": 0,
  "metadata": {
    "colab": {
      "provenance": []
    },
    "kernelspec": {
      "name": "python3",
      "display_name": "Python 3"
    },
    "language_info": {
      "name": "python"
    }
  },
  "cells": [
    {
      "cell_type": "code",
      "execution_count": 1,
      "metadata": {
        "colab": {
          "base_uri": "https://localhost:8080/"
        },
        "id": "lXzwd4ALKfEN",
        "outputId": "2d8aae90-0354-4cd5-bf26-20fda1331004"
      },
      "outputs": [
        {
          "output_type": "stream",
          "name": "stdout",
          "text": [
            "Looking in indexes: https://pypi.org/simple, https://us-python.pkg.dev/colab-wheels/public/simple/\n",
            "Requirement already satisfied: requests in /usr/local/lib/python3.8/dist-packages (2.25.1)\n",
            "Requirement already satisfied: urllib3<1.27,>=1.21.1 in /usr/local/lib/python3.8/dist-packages (from requests) (1.24.3)\n",
            "Requirement already satisfied: chardet<5,>=3.0.2 in /usr/local/lib/python3.8/dist-packages (from requests) (4.0.0)\n",
            "Requirement already satisfied: idna<3,>=2.5 in /usr/local/lib/python3.8/dist-packages (from requests) (2.10)\n",
            "Requirement already satisfied: certifi>=2017.4.17 in /usr/local/lib/python3.8/dist-packages (from requests) (2022.12.7)\n",
            "Looking in indexes: https://pypi.org/simple, https://us-python.pkg.dev/colab-wheels/public/simple/\n",
            "Requirement already satisfied: beautifulsoup4 in /usr/local/lib/python3.8/dist-packages (4.6.3)\n"
          ]
        }
      ],
      "source": [
        "!pip install requests\n",
        "!pip install beautifulsoup4"
      ]
    },
    {
      "cell_type": "code",
      "source": [
        "from bs4 import BeautifulSoup\n",
        "import requests"
      ],
      "metadata": {
        "id": "454VuFnARe2o"
      },
      "execution_count": 2,
      "outputs": []
    },
    {
      "cell_type": "markdown",
      "source": [
        "# Scraping from ycombinator hacker news"
      ],
      "metadata": {
        "id": "uRs0hbd3tYy1"
      }
    },
    {
      "cell_type": "code",
      "source": [
        "response = requests.get('https://news.ycombinator.com/news')\n",
        "html = response.text"
      ],
      "metadata": {
        "id": "MvnqGBrbUQ3X"
      },
      "execution_count": 3,
      "outputs": []
    },
    {
      "cell_type": "code",
      "source": [
        "soup = BeautifulSoup(html, 'html.parser')\n",
        "soup.prettify()"
      ],
      "metadata": {
        "colab": {
          "base_uri": "https://localhost:8080/",
          "height": 145
        },
        "collapsed": true,
        "id": "vX_SKIdNU1GA",
        "outputId": "b9e445a1-26b5-4fac-94bd-6f440ad55fc5"
      },
      "execution_count": 4,
      "outputs": [
        {
          "output_type": "execute_result",
          "data": {
            "text/plain": [
              "'<html lang=\"en\" op=\"news\">\\n <head>\\n  <meta content=\"origin\" name=\"referrer\"/>\\n  <meta content=\"width=device-width, initial-scale=1.0\" name=\"viewport\"/>\\n  <link href=\"news.css?UlRwqcQ6gkTRZD4ed0wz\" rel=\"stylesheet\" type=\"text/css\"/>\\n  <link href=\"favicon.ico\" rel=\"shortcut icon\"/>\\n  <link href=\"rss\" rel=\"alternate\" title=\"RSS\" type=\"application/rss+xml\"/>\\n  <title>\\n   Hacker News\\n  </title>\\n </head>\\n <body>\\n  <center>\\n   <table bgcolor=\"#f6f6ef\" border=\"0\" cellpadding=\"0\" cellspacing=\"0\" id=\"hnmain\" width=\"85%\">\\n    <tr>\\n     <td bgcolor=\"#ff6600\">\\n      <table border=\"0\" cellpadding=\"0\" cellspacing=\"0\" style=\"padding:2px\" width=\"100%\">\\n       <tr>\\n        <td style=\"width:18px;padding-right:4px\">\\n         <a href=\"https://news.ycombinator.com\">\\n          <img height=\"18\" src=\"y18.gif\" style=\"border:1px white solid;\" width=\"18\"/>\\n         </a>\\n        </td>\\n        <td style=\"line-height:12pt; height:10px;\">\\n         <span class=\"pagetop\">\\n          <b class=\"hnname\">\\n           <a href=\"news\">\\n            Hacker News\\n           </a>\\n          </b>\\n          <a href=\"newest\">\\n           new\\n          </a>\\n          |\\n          <a href=\"front\">\\n           past\\n          </a>\\n          |\\n          <a href=\"newcomments\">\\n           comments\\n          </a>\\n          |\\n          <a href=\"ask\">\\n           ask\\n          </a>\\n          |\\n          <a href=\"show\">\\n           show\\n          </a>\\n          |\\n          <a href=\"jobs\">\\n           jobs\\n          </a>\\n          |\\n          <a href=\"submit\">\\n           submit\\n          </a>\\n         </span>\\n        </td>\\n        <td style=\"text-align:right;padding-right:4px;\">\\n         <span class=\"pagetop\">\\n          <a href=\"login?goto=news\">\\n           login\\n          </a>\\n         </span>\\n        </td>\\n       </tr>\\n      </table>\\n     </td>\\n    </tr>\\n    <tr id=\"pagespace\" style=\"height:10px\" title=\"\">\\n    </tr>\\n    <tr>\\n     <td>\\n      <table border=\"0\" cellpadding=\"0\" cellspacing=\"0\">\\n       <tr class=\"athing\" id=\"34759507\">\\n        <td align=\"right\" class=\"title\" valign=\"top\">\\n         <span class=\"rank\">\\n          1.\\n         </span>\\n        </td>\\n        <td class=\"votelinks\" valign=\"top\">\\n         <center>\\n          <a href=\"vote?id=34759507&amp;how=up&amp;goto=news\" id=\"up_34759507\">\\n           <div class=\"votearrow\" title=\"upvote\">\\n           </div>\\n          </a>\\n         </center>\\n        </td>\\n        <td class=\"title\">\\n         <span class=\"titleline\">\\n          <a href=\"https://starlabs.systems/pages/starfighter\">\\n           StarFighter 16 inch: 4K Coreboot/Ryzen Linux laptop\\n          </a>\\n          <span class=\"sitebit comhead\">\\n           (\\n           <a href=\"from?site=starlabs.systems\">\\n            <span class=\"sitestr\">\\n             starlabs.systems\\n            </span>\\n           </a>\\n           )\\n          </span>\\n         </span>\\n        </td>\\n       </tr>\\n       <tr>\\n        <td colspan=\"2\">\\n        </td>\\n        <td class=\"subtext\">\\n         <span class=\"subline\">\\n          <span class=\"score\" id=\"score_34759507\">\\n           53 points\\n          </span>\\n          by\\n          <a class=\"hnuser\" href=\"user?id=hedora\">\\n           hedora\\n          </a>\\n          <span class=\"age\" title=\"2023-02-12T03:47:40\">\\n           <a href=\"item?id=34759507\">\\n            1 hour ago\\n           </a>\\n          </span>\\n          <span id=\"unv_34759507\">\\n          </span>\\n          |\\n          <a href=\"hide?id=34759507&amp;goto=news\">\\n           hide\\n          </a>\\n          |\\n          <a href=\"item?id=34759507\">\\n           20\\xa0comments\\n          </a>\\n         </span>\\n        </td>\\n       </tr>\\n       <tr class=\"spacer\" style=\"height:5px\">\\n       </tr>\\n       <tr class=\"athing\" id=\"34734570\">\\n        <td align=\"right\" class=\"title\" valign=\"top\">\\n         <span class=\"rank\">\\n          2.\\n         </span>\\n        </td>\\n        <td class=\"votelinks\" valign=\"top\">\\n         <center>\\n          <a href=\"vote?id=34734570&amp;how=up&amp;goto=news\" id=\"up_34734570\">\\n           <div class=\"votearrow\" title=\"upvote\">\\n           </div>\\n          </a>\\n         </center>\\n        </td>\\n        <td class=\"title\">\\n         <span class=\"titleline\">\\n          <a href=\"https://www.drawaurora.com/\">\\n           Aurora\\n          </a>\\n          <span class=\"sitebit comhead\">\\n           (\\n           <a href=\"from?site=drawaurora.com\">\\n            <span class=\"sitestr\">\\n             drawaurora.com\\n            </span>\\n           </a>\\n           )\\n          </span>\\n         </span>\\n        </td>\\n       </tr>\\n       <tr>\\n        <td colspan=\"2\">\\n        </td>\\n        <td class=\"subtext\">\\n         <span class=\"subline\">\\n          <span class=\"score\" id=\"score_34734570\">\\n           118 points\\n          </span>\\n          by\\n          <a class=\"hnuser\" href=\"user?id=evo_9\">\\n           evo_9\\n          </a>\\n          <span class=\"age\" title=\"2023-02-10T01:46:01\">\\n           <a href=\"item?id=34734570\">\\n            3 hours ago\\n           </a>\\n          </span>\\n          <span id=\"unv_34734570\">\\n          </span>\\n          |\\n          <a href=\"hide?id=34734570&amp;goto=news\">\\n           hide\\n          </a>\\n          |\\n          <a href=\"item?id=34734570\">\\n           5\\xa0comments\\n          </a>\\n         </span>\\n        </td>\\n       </tr>\\n       <tr class=\"spacer\" style=\"height:5px\">\\n       </tr>\\n       <tr class=\"athing\" id=\"34759527\">\\n        <td align=\"right\" class=\"title\" valign=\"top\">\\n         <span class=\"rank\">\\n          3.\\n         </span>\\n        </td>\\n        <td class=\"votelinks\" valign=\"top\">\\n         <center>\\n          <a href=\"vote?id=34759527&amp;how=up&amp;goto=news\" id=\"up_34759527\">\\n           <div class=\"votearrow\" title=\"upvote\">\\n           </div>\\n          </a>\\n         </center>\\n        </td>\\n        <td class=\"title\">\\n         <span class=\"titleline\">\\n          <a href=\"https://developer.mozilla.org/en-US/docs/Web/HTML/Element/dialog\">\\n           The &lt;Dialog&gt; Element\\n          </a>\\n          <span class=\"sitebit comhead\">\\n           (\\n           <a href=\"from?site=developer.mozilla.org\">\\n            <span class=\"sitestr\">\\n             developer.mozilla.org\\n            </span>\\n           </a>\\n           )\\n          </span>\\n         </span>\\n        </td>\\n       </tr>\\n       <tr>\\n        <td colspan=\"2\">\\n        </td>\\n        <td class=\"subtext\">\\n         <span class=\"subline\">\\n          <span class=\"score\" id=\"score_34759527\">\\n           26 points\\n          </span>\\n          by\\n          <a class=\"hnuser\" href=\"user?id=cardamomo\">\\n           cardamomo\\n          </a>\\n          <span class=\"age\" title=\"2023-02-12T03:51:29\">\\n           <a href=\"item?id=34759527\">\\n            1 hour ago\\n           </a>\\n          </span>\\n          <span id=\"unv_34759527\">\\n          </span>\\n          |\\n          <a href=\"hide?id=34759527&amp;goto=news\">\\n           hide\\n          </a>\\n          |\\n          <a href=\"item?id=34759527\">\\n           15\\xa0comments\\n          </a>\\n         </span>\\n        </td>\\n       </tr>\\n       <tr class=\"spacer\" style=\"height:5px\">\\n       </tr>\\n       <tr class=\"athing\" id=\"34754276\">\\n        <td align=\"right\" class=\"title\" valign=\"top\">\\n         <span class=\"rank\">\\n          4.\\n         </span>\\n        </td>\\n        <td class=\"votelinks\" valign=\"top\">\\n         <center>\\n          <a href=\"vote?id=34754276&amp;how=up&amp;goto=news\" id=\"up_34754276\">\\n           <div class=\"votearrow\" title=\"upvote\">\\n           </div>\\n          </a>\\n         </center>\\n        </td>\\n        <td class=\"title\">\\n         <span class=\"titleline\">\\n          <a href=\"https://textual.textualize.io/blog/2023/02/11/the-heisenbug-lurking-in-your-async-code/\">\\n           A Heisenbug lurking in async Python\\n          </a>\\n          <span class=\"sitebit comhead\">\\n           (\\n           <a href=\"from?site=textualize.io\">\\n            <span class=\"sitestr\">\\n             textualize.io\\n            </span>\\n           </a>\\n           )\\n          </span>\\n         </span>\\n        </td>\\n       </tr>\\n       <tr>\\n        <td colspan=\"2\">\\n        </td>\\n        <td class=\"subtext\">\\n         <span class=\"subline\">\\n          <span class=\"score\" id=\"score_34754276\">\\n           511 points\\n          </span>\\n          by\\n          <a class=\"hnuser\" href=\"user?id=willm\">\\n           willm\\n          </a>\\n          <span class=\"age\" title=\"2023-02-11T17:25:46\">\\n           <a href=\"item?id=34754276\">\\n            11 hours ago\\n           </a>\\n          </span>\\n          <span id=\"unv_34754276\">\\n          </span>\\n          |\\n          <a href=\"hide?id=34754276&amp;goto=news\">\\n           hide\\n          </a>\\n          |\\n          <a href=\"item?id=34754276\">\\n           172\\xa0comments\\n          </a>\\n         </span>\\n        </td>\\n       </tr>\\n       <tr class=\"spacer\" style=\"height:5px\">\\n       </tr>\\n       <tr class=\"athing\" id=\"34757997\">\\n        <td align=\"right\" class=\"title\" valign=\"top\">\\n         <span class=\"rank\">\\n          5.\\n         </span>\\n        </td>\\n        <td class=\"votelinks\" valign=\"top\">\\n         <center>\\n          <a href=\"vote?id=34757997&amp;how=up&amp;goto=news\" id=\"up_34757997\">\\n           <div class=\"votearrow\" title=\"upvote\">\\n           </div>\\n          </a>\\n         </center>\\n        </td>\\n        <td class=\"title\">\\n         <span class=\"titleline\">\\n          <a href=\"https://today.uconn.edu/2023/02/mitochondria-linked-to-major-depression-in-older-adults/\">\\n           Deteriorating Mitochondria Linked to Major Depression in Older Adults\\n          </a>\\n          <span class=\"sitebit comhead\">\\n           (\\n           <a href=\"from?site=uconn.edu\">\\n            <span class=\"sitestr\">\\n             uconn.edu\\n            </span>\\n           </a>\\n           )\\n          </span>\\n         </span>\\n        </td>\\n       </tr>\\n       <tr>\\n        <td colspan=\"2\">\\n        </td>\\n        <td class=\"subtext\">\\n         <span class=\"subline\">\\n          <span class=\"score\" id=\"score_34757997\">\\n           49 points\\n          </span>\\n          by\\n          <a class=\"hnuser\" href=\"user?id=voisin\">\\n           voisin\\n          </a>\\n          <span class=\"age\" title=\"2023-02-12T00:24:24\">\\n           <a href=\"item?id=34757997\">\\n            4 hours ago\\n           </a>\\n          </span>\\n          <span id=\"unv_34757997\">\\n          </span>\\n          |\\n          <a href=\"hide?id=34757997&amp;goto=news\">\\n           hide\\n          </a>\\n          |\\n          <a href=\"item?id=34757997\">\\n           20\\xa0comments\\n          </a>\\n         </span>\\n        </td>\\n       </tr>\\n       <tr class=\"spacer\" style=\"height:5px\">\\n       </tr>\\n       <tr class=\"athing\" id=\"34734143\">\\n        <td align=\"right\" class=\"title\" valign=\"top\">\\n         <span class=\"rank\">\\n          6.\\n         </span>\\n        </td>\\n        <td class=\"votelinks\" valign=\"top\">\\n         <center>\\n          <a href=\"vote?id=34734143&amp;how=up&amp;goto=news\" id=\"up_34734143\">\\n           <div class=\"votearrow\" title=\"upvote\">\\n           </div>\\n          </a>\\n         </center>\\n        </td>\\n        <td class=\"title\">\\n         <span class=\"titleline\">\\n          <a href=\"https://perso.ens-lyon.fr/jean-michel.muller/advertising.pdf\">\\n           Advertising Tips for Computer Number System Designers (2021) [pdf]\\n          </a>\\n          <span class=\"sitebit comhead\">\\n           (\\n           <a href=\"from?site=ens-lyon.fr\">\\n            <span class=\"sitestr\">\\n             ens-lyon.fr\\n            </span>\\n           </a>\\n           )\\n          </span>\\n         </span>\\n        </td>\\n       </tr>\\n       <tr>\\n        <td colspan=\"2\">\\n        </td>\\n        <td class=\"subtext\">\\n         <span class=\"subline\">\\n          <span class=\"score\" id=\"score_34734143\">\\n           13 points\\n          </span>\\n          by\\n          <a class=\"hnuser\" href=\"user?id=luu\">\\n           luu\\n          </a>\\n          <span class=\"age\" title=\"2023-02-10T00:56:51\">\\n           <a href=\"item?id=34734143\">\\n            2 hours ago\\n           </a>\\n          </span>\\n          <span id=\"unv_34734143\">\\n          </span>\\n          |\\n          <a href=\"hide?id=34734143&amp;goto=news\">\\n           hide\\n          </a>\\n          |\\n          <a href=\"item?id=34734143\">\\n           2\\xa0comments\\n          </a>\\n         </span>\\n        </td>\\n       </tr>\\n       <tr class=\"spacer\" style=\"height:5px\">\\n       </tr>\\n       <tr class=\"athing\" id=\"34754288\">\\n        <td align=\"right\" class=\"title\" valign=\"top\">\\n         <span class=\"rank\">\\n          7.\\n         </span>\\n        </td>\\n        <td class=\"votelinks\" valign=\"top\">\\n         <center>\\n          <a href=\"vote?id=34754288&amp;how=up&amp;goto=news\" id=\"up_34754288\">\\n           <div class=\"votearrow\" title=\"upvote\">\\n           </div>\\n          </a>\\n         </center>\\n        </td>\\n        <td class=\"title\">\\n         <span class=\"titleline\">\\n          <a href=\"https://phys.org/news/2023-02-trove-spices-world-sunken-fifteenth-century.html\">\\n           Trove of spices from around the world on sunken fifteenth-century Norse ship\\n          </a>\\n          <span class=\"sitebit comhead\">\\n           (\\n           <a href=\"from?site=phys.org\">\\n            <span class=\"sitestr\">\\n             phys.org\\n            </span>\\n           </a>\\n           )\\n          </span>\\n         </span>\\n        </td>\\n       </tr>\\n       <tr>\\n        <td colspan=\"2\">\\n        </td>\\n        <td class=\"subtext\">\\n         <span class=\"subline\">\\n          <span class=\"score\" id=\"score_34754288\">\\n           143 points\\n          </span>\\n          by\\n          <a class=\"hnuser\" href=\"user?id=wglb\">\\n           wglb\\n          </a>\\n          <span class=\"age\" title=\"2023-02-11T17:27:02\">\\n           <a href=\"item?id=34754288\">\\n            11 hours ago\\n           </a>\\n          </span>\\n          <span id=\"unv_34754288\">\\n          </span>\\n          |\\n          <a href=\"hide?id=34754288&amp;goto=news\">\\n           hide\\n          </a>\\n          |\\n          <a href=\"item?id=34754288\">\\n           77\\xa0comments\\n          </a>\\n         </span>\\n        </td>\\n       </tr>\\n       <tr class=\"spacer\" style=\"height:5px\">\\n       </tr>\\n       <tr class=\"athing\" id=\"34759721\">\\n        <td align=\"right\" class=\"title\" valign=\"top\">\\n         <span class=\"rank\">\\n          8.\\n         </span>\\n        </td>\\n        <td>\\n         <img height=\"1\" src=\"s.gif\" width=\"14\"/>\\n        </td>\\n        <td class=\"title\">\\n         <span class=\"titleline\">\\n          <a href=\"https://www.safebutler.com/careers\" rel=\"nofollow\">\\n           SafeButler (YC S17) Is Hiring Business Development\\n          </a>\\n          <span class=\"sitebit comhead\">\\n           (\\n           <a href=\"from?site=safebutler.com\">\\n            <span class=\"sitestr\">\\n             safebutler.com\\n            </span>\\n           </a>\\n           )\\n          </span>\\n         </span>\\n        </td>\\n       </tr>\\n       <tr>\\n        <td colspan=\"2\">\\n        </td>\\n        <td class=\"subtext\">\\n         <span class=\"age\" title=\"2023-02-12T04:26:53\">\\n          <a href=\"item?id=34759721\">\\n           45 minutes ago\\n          </a>\\n         </span>\\n         |\\n         <a href=\"hide?id=34759721&amp;goto=news\">\\n          hide\\n         </a>\\n        </td>\\n       </tr>\\n       <tr class=\"spacer\" style=\"height:5px\">\\n       </tr>\\n       <tr class=\"athing\" id=\"34756203\">\\n        <td align=\"right\" class=\"title\" valign=\"top\">\\n         <span class=\"rank\">\\n          9.\\n         </span>\\n        </td>\\n        <td class=\"votelinks\" valign=\"top\">\\n         <center>\\n          <a href=\"vote?id=34756203&amp;how=up&amp;goto=news\" id=\"up_34756203\">\\n           <div class=\"votearrow\" title=\"upvote\">\\n           </div>\\n          </a>\\n         </center>\\n        </td>\\n        <td class=\"title\">\\n         <span class=\"titleline\">\\n          <a href=\"https://en.wikipedia.org/wiki/Pangram\">\\n           Pangram\\n          </a>\\n          <span class=\"sitebit comhead\">\\n           (\\n           <a href=\"from?site=wikipedia.org\">\\n            <span class=\"sitestr\">\\n             wikipedia.org\\n            </span>\\n           </a>\\n           )\\n          </span>\\n         </span>\\n        </td>\\n       </tr>\\n       <tr>\\n        <td colspan=\"2\">\\n        </td>\\n        <td class=\"subtext\">\\n         <span class=\"subline\">\\n          <span class=\"score\" id=\"score_34756203\">\\n           101 points\\n          </span>\\n          by\\n          <a class=\"hnuser\" href=\"user?id=bryanrasmussen\">\\n           bryanrasmussen\\n          </a>\\n          <span class=\"age\" title=\"2023-02-11T20:51:39\">\\n           <a href=\"item?id=34756203\">\\n            8 hours ago\\n           </a>\\n          </span>\\n          <span id=\"unv_34756203\">\\n          </span>\\n          |\\n          <a href=\"hide?id=34756203&amp;goto=news\">\\n           hide\\n          </a>\\n          |\\n          <a href=\"item?id=34756203\">\\n           46\\xa0comments\\n          </a>\\n         </span>\\n        </td>\\n       </tr>\\n       <tr class=\"spacer\" style=\"height:5px\">\\n       </tr>\\n       <tr class=\"athing\" id=\"34755352\">\\n        <td align=\"right\" class=\"title\" valign=\"top\">\\n         <span class=\"rank\">\\n          10.\\n         </span>\\n        </td>\\n        <td class=\"votelinks\" valign=\"top\">\\n         <center>\\n          <a href=\"vote?id=34755352&amp;how=up&amp;goto=news\" id=\"up_34755352\">\\n           <div class=\"votearrow\" title=\"upvote\">\\n           </div>\\n          </a>\\n         </center>\\n        </td>\\n        <td class=\"title\">\\n         <span class=\"titleline\">\\n          <a href=\"https://www.atlanticcouncil.org/in-depth-research-reports/report/open-source-software-as-infrastructure/\">\\n           Toward policy for open-source software as infrastructure\\n          </a>\\n          <span class=\"sitebit comhead\">\\n           (\\n           <a href=\"from?site=atlanticcouncil.org\">\\n            <span class=\"sitestr\">\\n             atlanticcouncil.org\\n            </span>\\n           </a>\\n           )\\n          </span>\\n         </span>\\n        </td>\\n       </tr>\\n       <tr>\\n        <td colspan=\"2\">\\n        </td>\\n        <td class=\"subtext\">\\n         <span class=\"subline\">\\n          <span class=\"score\" id=\"score_34755352\">\\n           83 points\\n          </span>\\n          by\\n          <a class=\"hnuser\" href=\"user?id=walterbell\">\\n           walterbell\\n          </a>\\n          <span class=\"age\" title=\"2023-02-11T19:18:12\">\\n           <a href=\"item?id=34755352\">\\n            8 hours ago\\n           </a>\\n          </span>\\n          <span id=\"unv_34755352\">\\n          </span>\\n          |\\n          <a href=\"hide?id=34755352&amp;goto=news\">\\n           hide\\n          </a>\\n          |\\n          <a href=\"item?id=34755352\">\\n           32\\xa0comments\\n          </a>\\n         </span>\\n        </td>\\n       </tr>\\n       <tr class=\"spacer\" style=\"height:5px\">\\n       </tr>\\n       <tr class=\"athing\" id=\"34759357\">\\n        <td align=\"right\" class=\"title\" valign=\"top\">\\n         <span class=\"rank\">\\n          11.\\n         </span>\\n        </td>\\n        <td class=\"votelinks\" valign=\"top\">\\n         <center>\\n          <a href=\"vote?id=34759357&amp;how=up&amp;goto=news\" id=\"up_34759357\">\\n           <div class=\"votearrow\" title=\"upvote\">\\n           </div>\\n          </a>\\n         </center>\\n        </td>\\n        <td class=\"title\">\\n         <span class=\"titleline\">\\n          <a href=\"https://law.stackexchange.com/questions/89138/it-is-really-illegal-to-plug-in-a-device-to-watch-bbc-iplayer-or-live-tv-in-a-st\" rel=\"nofollow\">\\n           Is it illegal to plug in a device to watch BBC iPlayer or Live TV in Starbucks?\\n          </a>\\n          <span class=\"sitebit comhead\">\\n           (\\n           <a href=\"from?site=law.stackexchange.com\">\\n            <span class=\"sitestr\">\\n             law.stackexchange.com\\n            </span>\\n           </a>\\n           )\\n          </span>\\n         </span>\\n        </td>\\n       </tr>\\n       <tr>\\n        <td colspan=\"2\">\\n        </td>\\n        <td class=\"subtext\">\\n         <span class=\"subline\">\\n          <span class=\"score\" id=\"score_34759357\">\\n           15 points\\n          </span>\\n          by\\n          <a class=\"hnuser\" href=\"user?id=josephcsible\">\\n           josephcsible\\n          </a>\\n          <span class=\"age\" title=\"2023-02-12T03:19:32\">\\n           <a href=\"item?id=34759357\">\\n            1 hour ago\\n           </a>\\n          </span>\\n          <span id=\"unv_34759357\">\\n          </span>\\n          |\\n          <a href=\"hide?id=34759357&amp;goto=news\">\\n           hide\\n          </a>\\n          |\\n          <a href=\"item?id=34759357\">\\n           6\\xa0comments\\n          </a>\\n         </span>\\n        </td>\\n       </tr>\\n       <tr class=\"spacer\" style=\"height:5px\">\\n       </tr>\\n       <tr class=\"athing\" id=\"34752489\">\\n        <td align=\"right\" class=\"title\" valign=\"top\">\\n         <span class=\"rank\">\\n          12.\\n         </span>\\n        </td>\\n        <td class=\"votelinks\" valign=\"top\">\\n         <center>\\n          <a href=\"vote?id=34752489&amp;how=up&amp;goto=news\" id=\"up_34752489\">\\n           <div class=\"votearrow\" title=\"upvote\">\\n           </div>\\n          </a>\\n         </center>\\n        </td>\\n        <td class=\"title\">\\n         <span class=\"titleline\">\\n          <a href=\"https://lilianweng.github.io/posts/2021-09-25-train-large/\">\\n           How to train large models on many GPUs? (2021)\\n          </a>\\n          <span class=\"sitebit comhead\">\\n           (\\n           <a href=\"from?site=lilianweng.github.io\">\\n            <span class=\"sitestr\">\\n             lilianweng.github.io\\n            </span>\\n           </a>\\n           )\\n          </span>\\n         </span>\\n        </td>\\n       </tr>\\n       <tr>\\n        <td colspan=\"2\">\\n        </td>\\n        <td class=\"subtext\">\\n         <span class=\"subline\">\\n          <span class=\"score\" id=\"score_34752489\">\\n           175 points\\n          </span>\\n          by\\n          <a class=\"hnuser\" href=\"user?id=eternalban\">\\n           eternalban\\n          </a>\\n          <span class=\"age\" title=\"2023-02-11T14:22:23\">\\n           <a href=\"item?id=34752489\">\\n            14 hours ago\\n           </a>\\n          </span>\\n          <span id=\"unv_34752489\">\\n          </span>\\n          |\\n          <a href=\"hide?id=34752489&amp;goto=news\">\\n           hide\\n          </a>\\n          |\\n          <a href=\"item?id=34752489\">\\n           30\\xa0comments\\n          </a>\\n         </span>\\n        </td>\\n       </tr>\\n       <tr class=\"spacer\" style=\"height:5px\">\\n       </tr>\\n       <tr class=\"athing\" id=\"34734696\">\\n        <td align=\"right\" class=\"title\" valign=\"top\">\\n         <span class=\"rank\">\\n          13.\\n         </span>\\n        </td>\\n        <td class=\"votelinks\" valign=\"top\">\\n         <center>\\n          <a href=\"vote?id=34734696&amp;how=up&amp;goto=news\" id=\"up_34734696\">\\n           <div class=\"votearrow\" title=\"upvote\">\\n           </div>\\n          </a>\\n         </center>\\n        </td>\\n        <td class=\"title\">\\n         <span class=\"titleline\">\\n          <a href=\"https://arxiv.org/abs/2302.04761\">\\n           Toolformer: Language models can teach themselves to use tools\\n          </a>\\n          <span class=\"sitebit comhead\">\\n           (\\n           <a href=\"from?site=arxiv.org\">\\n            <span class=\"sitestr\">\\n             arxiv.org\\n            </span>\\n           </a>\\n           )\\n          </span>\\n         </span>\\n        </td>\\n       </tr>\\n       <tr>\\n        <td colspan=\"2\">\\n        </td>\\n        <td class=\"subtext\">\\n         <span class=\"subline\">\\n          <span class=\"score\" id=\"score_34734696\">\\n           19 points\\n          </span>\\n          by\\n          <a class=\"hnuser\" href=\"user?id=azhenley\">\\n           azhenley\\n          </a>\\n          <span class=\"age\" title=\"2023-02-10T01:59:11\">\\n           <a href=\"item?id=34734696\">\\n            4 hours ago\\n           </a>\\n          </span>\\n          <span id=\"unv_34734696\">\\n          </span>\\n          |\\n          <a href=\"hide?id=34734696&amp;goto=news\">\\n           hide\\n          </a>\\n          |\\n          <a href=\"item?id=34734696\">\\n           5\\xa0comments\\n          </a>\\n         </span>\\n        </td>\\n       </tr>\\n       <tr class=\"spacer\" style=\"height:5px\">\\n       </tr>\\n       <tr class=\"athing\" id=\"34757563\">\\n        <td align=\"right\" class=\"title\" valign=\"top\">\\n         <span class=\"rank\">\\n          14.\\n         </span>\\n        </td>\\n        <td class=\"votelinks\" valign=\"top\">\\n         <center>\\n          <a href=\"vote?id=34757563&amp;how=up&amp;goto=news\" id=\"up_34757563\">\\n           <div class=\"votearrow\" title=\"upvote\">\\n           </div>\\n          </a>\\n         </center>\\n        </td>\\n        <td class=\"title\">\\n         <span class=\"titleline\">\\n          <a href=\"https://www.reuters.com/world/us/us-still-gives-no-details-about-alaska-ufo-new-object-seen-over-canada-2023-02-11/\">\\n           Another UFO shot down over Canada by US\\n          </a>\\n          <span class=\"sitebit comhead\">\\n           (\\n           <a href=\"from?site=reuters.com\">\\n            <span class=\"sitestr\">\\n             reuters.com\\n            </span>\\n           </a>\\n           )\\n          </span>\\n         </span>\\n        </td>\\n       </tr>\\n       <tr>\\n        <td colspan=\"2\">\\n        </td>\\n        <td class=\"subtext\">\\n         <span class=\"subline\">\\n          <span class=\"score\" id=\"score_34757563\">\\n           187 points\\n          </span>\\n          by\\n          <a class=\"hnuser\" href=\"user?id=guywithabowtie\">\\n           guywithabowtie\\n          </a>\\n          <span class=\"age\" title=\"2023-02-11T23:28:23\">\\n           <a href=\"item?id=34757563\">\\n            5 hours ago\\n           </a>\\n          </span>\\n          <span id=\"unv_34757563\">\\n          </span>\\n          |\\n          <a href=\"hide?id=34757563&amp;goto=news\">\\n           hide\\n          </a>\\n          |\\n          <a href=\"item?id=34757563\">\\n           134\\xa0comments\\n          </a>\\n         </span>\\n        </td>\\n       </tr>\\n       <tr class=\"spacer\" style=\"height:5px\">\\n       </tr>\\n       <tr class=\"athing\" id=\"34731917\">\\n        <td align=\"right\" class=\"title\" valign=\"top\">\\n         <span class=\"rank\">\\n          15.\\n         </span>\\n        </td>\\n        <td class=\"votelinks\" valign=\"top\">\\n         <center>\\n          <a href=\"vote?id=34731917&amp;how=up&amp;goto=news\" id=\"up_34731917\">\\n           <div class=\"votearrow\" title=\"upvote\">\\n           </div>\\n          </a>\\n         </center>\\n        </td>\\n        <td class=\"title\">\\n         <span class=\"titleline\">\\n          <a href=\"https://www.worthe-it.co.za/blog/2023-02-09-i-was-saved-by-test-driven-development.html\">\\n           I gained a new appreciation for Test Driven Development\\n          </a>\\n          <span class=\"sitebit comhead\">\\n           (\\n           <a href=\"from?site=worthe-it.co.za\">\\n            <span class=\"sitestr\">\\n             worthe-it.co.za\\n            </span>\\n           </a>\\n           )\\n          </span>\\n         </span>\\n        </td>\\n       </tr>\\n       <tr>\\n        <td colspan=\"2\">\\n        </td>\\n        <td class=\"subtext\">\\n         <span class=\"subline\">\\n          <span class=\"score\" id=\"score_34731917\">\\n           44 points\\n          </span>\\n          by\\n          <a class=\"hnuser\" href=\"user?id=ingve\">\\n           ingve\\n          </a>\\n          <span class=\"age\" title=\"2023-02-09T21:39:31\">\\n           <a href=\"item?id=34731917\">\\n            6 hours ago\\n           </a>\\n          </span>\\n          <span id=\"unv_34731917\">\\n          </span>\\n          |\\n          <a href=\"hide?id=34731917&amp;goto=news\">\\n           hide\\n          </a>\\n          |\\n          <a href=\"item?id=34731917\">\\n           22\\xa0comments\\n          </a>\\n         </span>\\n        </td>\\n       </tr>\\n       <tr class=\"spacer\" style=\"height:5px\">\\n       </tr>\\n       <tr class=\"athing\" id=\"34756884\">\\n        <td align=\"right\" class=\"title\" valign=\"top\">\\n         <span class=\"rank\">\\n          16.\\n         </span>\\n        </td>\\n        <td class=\"votelinks\" valign=\"top\">\\n         <center>\\n          <a href=\"vote?id=34756884&amp;how=up&amp;goto=news\" id=\"up_34756884\">\\n           <div class=\"votearrow\" title=\"upvote\">\\n           </div>\\n          </a>\\n         </center>\\n        </td>\\n        <td class=\"title\">\\n         <span class=\"titleline\">\\n          <a href=\"https://bioinformatics.stackexchange.com/questions/11227/why-does-the-sars-cov2-coronavirus-genome-end-in-aaaaaaaaaaaaaaaaaaaaaaaaaaaaaaa\">\\n           Why does the SARS-Cov2 genome end in aaaaaaaaaaaaaaaaaaaaaaaaaaaaaaaaa? (2020)\\n          </a>\\n          <span class=\"sitebit comhead\">\\n           (\\n           <a href=\"from?site=bioinformatics.stackexchange.com\">\\n            <span class=\"sitestr\">\\n             bioinformatics.stackexchange.com\\n            </span>\\n           </a>\\n           )\\n          </span>\\n         </span>\\n        </td>\\n       </tr>\\n       <tr>\\n        <td colspan=\"2\">\\n        </td>\\n        <td class=\"subtext\">\\n         <span class=\"subline\">\\n          <span class=\"score\" id=\"score_34756884\">\\n           157 points\\n          </span>\\n          by\\n          <a class=\"hnuser\" href=\"user?id=jdwg\">\\n           jdwg\\n          </a>\\n          <span class=\"age\" title=\"2023-02-11T22:05:12\">\\n           <a href=\"item?id=34756884\">\\n            7 hours ago\\n           </a>\\n          </span>\\n          <span id=\"unv_34756884\">\\n          </span>\\n          |\\n          <a href=\"hide?id=34756884&amp;goto=news\">\\n           hide\\n          </a>\\n          |\\n          <a href=\"item?id=34756884\">\\n           51\\xa0comments\\n          </a>\\n         </span>\\n        </td>\\n       </tr>\\n       <tr class=\"spacer\" style=\"height:5px\">\\n       </tr>\\n       <tr class=\"athing\" id=\"34756539\">\\n        <td align=\"right\" class=\"title\" valign=\"top\">\\n         <span class=\"rank\">\\n          17.\\n         </span>\\n        </td>\\n        <td class=\"votelinks\" valign=\"top\">\\n         <center>\\n          <a href=\"vote?id=34756539&amp;how=up&amp;goto=news\" id=\"up_34756539\">\\n           <div class=\"votearrow\" title=\"upvote\">\\n           </div>\\n          </a>\\n         </center>\\n        </td>\\n        <td class=\"title\">\\n         <span class=\"titleline\">\\n          <a href=\"https://www.nature.com/articles/s41467-022-32483-x\">\\n           Deep learning for twelve hour precipitation forecasts\\n          </a>\\n          <span class=\"sitebit comhead\">\\n           (\\n           <a href=\"from?site=nature.com\">\\n            <span class=\"sitestr\">\\n             nature.com\\n            </span>\\n           </a>\\n           )\\n          </span>\\n         </span>\\n        </td>\\n       </tr>\\n       <tr>\\n        <td colspan=\"2\">\\n        </td>\\n        <td class=\"subtext\">\\n         <span class=\"subline\">\\n          <span class=\"score\" id=\"score_34756539\">\\n           52 points\\n          </span>\\n          by\\n          <a class=\"hnuser\" href=\"user?id=mfiguiere\">\\n           mfiguiere\\n          </a>\\n          <span class=\"age\" title=\"2023-02-11T21:26:24\">\\n           <a href=\"item?id=34756539\">\\n            7 hours ago\\n           </a>\\n          </span>\\n          <span id=\"unv_34756539\">\\n          </span>\\n          |\\n          <a href=\"hide?id=34756539&amp;goto=news\">\\n           hide\\n          </a>\\n          |\\n          <a href=\"item?id=34756539\">\\n           5\\xa0comments\\n          </a>\\n         </span>\\n        </td>\\n       </tr>\\n       <tr class=\"spacer\" style=\"height:5px\">\\n       </tr>\\n       <tr class=\"athing\" id=\"34758429\">\\n        <td align=\"right\" class=\"title\" valign=\"top\">\\n         <span class=\"rank\">\\n          18.\\n         </span>\\n        </td>\\n        <td class=\"votelinks\" valign=\"top\">\\n         <center>\\n          <a href=\"vote?id=34758429&amp;how=up&amp;goto=news\" id=\"up_34758429\">\\n           <div class=\"votearrow\" title=\"upvote\">\\n           </div>\\n          </a>\\n         </center>\\n        </td>\\n        <td class=\"title\">\\n         <span class=\"titleline\">\\n          <a href=\"https://www.reuters.com/article/usa-object-montana-idUSL1N34S008\">\\n           U.S. FAA closes some airspace in Montana for Defense Department activities\\n          </a>\\n          <span class=\"sitebit comhead\">\\n           (\\n           <a href=\"from?site=reuters.com\">\\n            <span class=\"sitestr\">\\n             reuters.com\\n            </span>\\n           </a>\\n           )\\n          </span>\\n         </span>\\n        </td>\\n       </tr>\\n       <tr>\\n        <td colspan=\"2\">\\n        </td>\\n        <td class=\"subtext\">\\n         <span class=\"subline\">\\n          <span class=\"score\" id=\"score_34758429\">\\n           166 points\\n          </span>\\n          by\\n          <a class=\"hnuser\" href=\"user?id=moose_man\">\\n           moose_man\\n          </a>\\n          <span class=\"age\" title=\"2023-02-12T01:20:39\">\\n           <a href=\"item?id=34758429\">\\n            3 hours ago\\n           </a>\\n          </span>\\n          <span id=\"unv_34758429\">\\n          </span>\\n          |\\n          <a href=\"hide?id=34758429&amp;goto=news\">\\n           hide\\n          </a>\\n          |\\n          <a href=\"item?id=34758429\">\\n           140\\xa0comments\\n          </a>\\n         </span>\\n        </td>\\n       </tr>\\n       <tr class=\"spacer\" style=\"height:5px\">\\n       </tr>\\n       <tr class=\"athing\" id=\"34754544\">\\n        <td align=\"right\" class=\"title\" valign=\"top\">\\n         <span class=\"rank\">\\n          19.\\n         </span>\\n        </td>\\n        <td class=\"votelinks\" valign=\"top\">\\n         <center>\\n          <a href=\"vote?id=34754544&amp;how=up&amp;goto=news\" id=\"up_34754544\">\\n           <div class=\"votearrow\" title=\"upvote\">\\n           </div>\\n          </a>\\n         </center>\\n        </td>\\n        <td class=\"title\">\\n         <span class=\"titleline\">\\n          <a href=\"http://www.righto.com/2023/02/silicon-reverse-engineering-intel-8086.html\">\\n           Silicon reverse-engineering: the Intel 8086 processor\\'s flag circuitry\\n          </a>\\n          <span class=\"sitebit comhead\">\\n           (\\n           <a href=\"from?site=righto.com\">\\n            <span class=\"sitestr\">\\n             righto.com\\n            </span>\\n           </a>\\n           )\\n          </span>\\n         </span>\\n        </td>\\n       </tr>\\n       <tr>\\n        <td colspan=\"2\">\\n        </td>\\n        <td class=\"subtext\">\\n         <span class=\"subline\">\\n          <span class=\"score\" id=\"score_34754544\">\\n           73 points\\n          </span>\\n          by\\n          <a class=\"hnuser\" href=\"user?id=zdw\">\\n           zdw\\n          </a>\\n          <span class=\"age\" title=\"2023-02-11T17:54:02\">\\n           <a href=\"item?id=34754544\">\\n            11 hours ago\\n           </a>\\n          </span>\\n          <span id=\"unv_34754544\">\\n          </span>\\n          |\\n          <a href=\"hide?id=34754544&amp;goto=news\">\\n           hide\\n          </a>\\n          |\\n          <a href=\"item?id=34754544\">\\n           18\\xa0comments\\n          </a>\\n         </span>\\n        </td>\\n       </tr>\\n       <tr class=\"spacer\" style=\"height:5px\">\\n       </tr>\\n       <tr class=\"athing\" id=\"34758348\">\\n        <td align=\"right\" class=\"title\" valign=\"top\">\\n         <span class=\"rank\">\\n          20.\\n         </span>\\n        </td>\\n        <td class=\"votelinks\" valign=\"top\">\\n         <center>\\n          <a href=\"vote?id=34758348&amp;how=up&amp;goto=news\" id=\"up_34758348\">\\n           <div class=\"votearrow\" title=\"upvote\">\\n           </div>\\n          </a>\\n         </center>\\n        </td>\\n        <td class=\"title\">\\n         <span class=\"titleline\">\\n          <a href=\"https://g-script.io/\">\\n           Show HN: G-Script – Visual Scripting for the Web\\n          </a>\\n          <span class=\"sitebit comhead\">\\n           (\\n           <a href=\"from?site=g-script.io\">\\n            <span class=\"sitestr\">\\n             g-script.io\\n            </span>\\n           </a>\\n           )\\n          </span>\\n         </span>\\n        </td>\\n       </tr>\\n       <tr>\\n        <td colspan=\"2\">\\n        </td>\\n        <td class=\"subtext\">\\n         <span class=\"subline\">\\n          <span class=\"score\" id=\"score_34758348\">\\n           17 points\\n          </span>\\n          by\\n          <a class=\"hnuser\" href=\"user?id=llamaLord\">\\n           llamaLord\\n          </a>\\n          <span class=\"age\" title=\"2023-02-12T01:11:38\">\\n           <a href=\"item?id=34758348\">\\n            4 hours ago\\n           </a>\\n          </span>\\n          <span id=\"unv_34758348\">\\n          </span>\\n          |\\n          <a href=\"hide?id=34758348&amp;goto=news\">\\n           hide\\n          </a>\\n          |\\n          <a href=\"item?id=34758348\">\\n           7\\xa0comments\\n          </a>\\n         </span>\\n        </td>\\n       </tr>\\n       <tr class=\"spacer\" style=\"height:5px\">\\n       </tr>\\n       <tr class=\"athing\" id=\"34759028\">\\n        <td align=\"right\" class=\"title\" valign=\"top\">\\n         <span class=\"rank\">\\n          21.\\n         </span>\\n        </td>\\n        <td class=\"votelinks\" valign=\"top\">\\n         <center>\\n          <a href=\"vote?id=34759028&amp;how=up&amp;goto=news\" id=\"up_34759028\">\\n           <div class=\"votearrow\" title=\"upvote\">\\n           </div>\\n          </a>\\n         </center>\\n        </td>\\n        <td class=\"title\">\\n         <span class=\"titleline\">\\n          <a href=\"https://cdn.winget.microsoft.com/cache\">\\n           Microsoft failed to rotate certificates for winget CDN on time\\n          </a>\\n          <span class=\"sitebit comhead\">\\n           (\\n           <a href=\"from?site=microsoft.com\">\\n            <span class=\"sitestr\">\\n             microsoft.com\\n            </span>\\n           </a>\\n           )\\n          </span>\\n         </span>\\n        </td>\\n       </tr>\\n       <tr>\\n        <td colspan=\"2\">\\n        </td>\\n        <td class=\"subtext\">\\n         <span class=\"subline\">\\n          <span class=\"score\" id=\"score_34759028\">\\n           44 points\\n          </span>\\n          by\\n          <a class=\"hnuser\" href=\"user?id=yjh0502\">\\n           yjh0502\\n          </a>\\n          <span class=\"age\" title=\"2023-02-12T02:34:25\">\\n           <a href=\"item?id=34759028\">\\n            2 hours ago\\n           </a>\\n          </span>\\n          <span id=\"unv_34759028\">\\n          </span>\\n          |\\n          <a href=\"hide?id=34759028&amp;goto=news\">\\n           hide\\n          </a>\\n          |\\n          <a href=\"item?id=34759028\">\\n           9\\xa0comments\\n          </a>\\n         </span>\\n        </td>\\n       </tr>\\n       <tr class=\"spacer\" style=\"height:5px\">\\n       </tr>\\n       <tr class=\"athing\" id=\"34733922\">\\n        <td align=\"right\" class=\"title\" valign=\"top\">\\n         <span class=\"rank\">\\n          22.\\n         </span>\\n        </td>\\n        <td class=\"votelinks\" valign=\"top\">\\n         <center>\\n          <a href=\"vote?id=34733922&amp;how=up&amp;goto=news\" id=\"up_34733922\">\\n           <div class=\"votearrow\" title=\"upvote\">\\n           </div>\\n          </a>\\n         </center>\\n        </td>\\n        <td class=\"title\">\\n         <span class=\"titleline\">\\n          <a href=\"https://www.institutionalinvestor.com/article/b8xc1b3bzfrk3m/A-Jim-Simons-Market-Mystery-Solved\">\\n           A Jim Simons Market Mystery, Solved?\\n          </a>\\n          <span class=\"sitebit comhead\">\\n           (\\n           <a href=\"from?site=institutionalinvestor.com\">\\n            <span class=\"sitestr\">\\n             institutionalinvestor.com\\n            </span>\\n           </a>\\n           )\\n          </span>\\n         </span>\\n        </td>\\n       </tr>\\n       <tr>\\n        <td colspan=\"2\">\\n        </td>\\n        <td class=\"subtext\">\\n         <span class=\"subline\">\\n          <span class=\"score\" id=\"score_34733922\">\\n           21 points\\n          </span>\\n          by\\n          <a class=\"hnuser\" href=\"user?id=SirLJ\">\\n           SirLJ\\n          </a>\\n          <span class=\"age\" title=\"2023-02-10T00:34:32\">\\n           <a href=\"item?id=34733922\">\\n            4 hours ago\\n           </a>\\n          </span>\\n          <span id=\"unv_34733922\">\\n          </span>\\n          |\\n          <a href=\"hide?id=34733922&amp;goto=news\">\\n           hide\\n          </a>\\n          |\\n          <a href=\"item?id=34733922\">\\n           11\\xa0comments\\n          </a>\\n         </span>\\n        </td>\\n       </tr>\\n       <tr class=\"spacer\" style=\"height:5px\">\\n       </tr>\\n       <tr class=\"athing\" id=\"34757265\">\\n        <td align=\"right\" class=\"title\" valign=\"top\">\\n         <span class=\"rank\">\\n          23.\\n         </span>\\n        </td>\\n        <td class=\"votelinks\" valign=\"top\">\\n         <center>\\n          <a href=\"vote?id=34757265&amp;how=up&amp;goto=news\" id=\"up_34757265\">\\n           <div class=\"votearrow\" title=\"upvote\">\\n           </div>\\n          </a>\\n         </center>\\n        </td>\\n        <td class=\"title\">\\n         <span class=\"titleline\">\\n          <a href=\"https://arxiv.org/abs/2302.04761\">\\n           Toolformer: Language Models Can Teach Themselves to Use Tools\\n          </a>\\n          <span class=\"sitebit comhead\">\\n           (\\n           <a href=\"from?site=arxiv.org\">\\n            <span class=\"sitestr\">\\n             arxiv.org\\n            </span>\\n           </a>\\n           )\\n          </span>\\n         </span>\\n        </td>\\n       </tr>\\n       <tr>\\n        <td colspan=\"2\">\\n        </td>\\n        <td class=\"subtext\">\\n         <span class=\"subline\">\\n          <span class=\"score\" id=\"score_34757265\">\\n           142 points\\n          </span>\\n          by\\n          <a class=\"hnuser\" href=\"user?id=jasondavies\">\\n           jasondavies\\n          </a>\\n          <span class=\"age\" title=\"2023-02-11T22:52:17\">\\n           <a href=\"item?id=34757265\">\\n            6 hours ago\\n           </a>\\n          </span>\\n          <span id=\"unv_34757265\">\\n          </span>\\n          |\\n          <a href=\"hide?id=34757265&amp;goto=news\">\\n           hide\\n          </a>\\n          |\\n          <a href=\"item?id=34757265\">\\n           30\\xa0comments\\n          </a>\\n         </span>\\n        </td>\\n       </tr>\\n       <tr class=\"spacer\" style=\"height:5px\">\\n       </tr>\\n       <tr class=\"athing\" id=\"34758626\">\\n        <td align=\"right\" class=\"title\" valign=\"top\">\\n         <span class=\"rank\">\\n          24.\\n         </span>\\n        </td>\\n        <td class=\"votelinks\" valign=\"top\">\\n         <center>\\n          <a href=\"vote?id=34758626&amp;how=up&amp;goto=news\" id=\"up_34758626\">\\n           <div class=\"votearrow\" title=\"upvote\">\\n           </div>\\n          </a>\\n         </center>\\n        </td>\\n        <td class=\"title\">\\n         <span class=\"titleline\">\\n          <a href=\"https://twitter.com/reprosendale/status/1624579901608034306\">\\n           U.S. Representative Comments on New “Object” over Montana\\n          </a>\\n          <span class=\"sitebit comhead\">\\n           (\\n           <a href=\"from?site=twitter.com/reprosendale\">\\n            <span class=\"sitestr\">\\n             twitter.com/reprosendale\\n            </span>\\n           </a>\\n           )\\n          </span>\\n         </span>\\n        </td>\\n       </tr>\\n       <tr>\\n        <td colspan=\"2\">\\n        </td>\\n        <td class=\"subtext\">\\n         <span class=\"subline\">\\n          <span class=\"score\" id=\"score_34758626\">\\n           53 points\\n          </span>\\n          by\\n          <a class=\"hnuser\" href=\"user?id=bison3\">\\n           bison3\\n          </a>\\n          <span class=\"age\" title=\"2023-02-12T01:43:13\">\\n           <a href=\"item?id=34758626\">\\n            3 hours ago\\n           </a>\\n          </span>\\n          <span id=\"unv_34758626\">\\n          </span>\\n          |\\n          <a href=\"hide?id=34758626&amp;goto=news\">\\n           hide\\n          </a>\\n          |\\n          <a href=\"item?id=34758626\">\\n           35\\xa0comments\\n          </a>\\n         </span>\\n        </td>\\n       </tr>\\n       <tr class=\"spacer\" style=\"height:5px\">\\n       </tr>\\n       <tr class=\"athing\" id=\"34759220\">\\n        <td align=\"right\" class=\"title\" valign=\"top\">\\n         <span class=\"rank\">\\n          25.\\n         </span>\\n        </td>\\n        <td class=\"votelinks\" valign=\"top\">\\n         <center>\\n          <a href=\"vote?id=34759220&amp;how=up&amp;goto=news\" id=\"up_34759220\">\\n           <div class=\"votearrow\" title=\"upvote\">\\n           </div>\\n          </a>\\n         </center>\\n        </td>\\n        <td class=\"title\">\\n         <span class=\"titleline\">\\n          <a href=\"https://daily.jstor.org/inside-the-new-york-city-kosher-meat-boycott-of-1902/\" rel=\"nofollow\">\\n           The New York City Kosher Meat Boycott of 1902\\n          </a>\\n          <span class=\"sitebit comhead\">\\n           (\\n           <a href=\"from?site=jstor.org\">\\n            <span class=\"sitestr\">\\n             jstor.org\\n            </span>\\n           </a>\\n           )\\n          </span>\\n         </span>\\n        </td>\\n       </tr>\\n       <tr>\\n        <td colspan=\"2\">\\n        </td>\\n        <td class=\"subtext\">\\n         <span class=\"subline\">\\n          <span class=\"score\" id=\"score_34759220\">\\n           3 points\\n          </span>\\n          by\\n          <a class=\"hnuser\" href=\"user?id=samclemens\">\\n           samclemens\\n          </a>\\n          <span class=\"age\" title=\"2023-02-12T02:58:46\">\\n           <a href=\"item?id=34759220\">\\n            2 hours ago\\n           </a>\\n          </span>\\n          <span id=\"unv_34759220\">\\n          </span>\\n          |\\n          <a href=\"hide?id=34759220&amp;goto=news\">\\n           hide\\n          </a>\\n          |\\n          <a href=\"item?id=34759220\">\\n           discuss\\n          </a>\\n         </span>\\n        </td>\\n       </tr>\\n       <tr class=\"spacer\" style=\"height:5px\">\\n       </tr>\\n       <tr class=\"athing\" id=\"34756156\">\\n        <td align=\"right\" class=\"title\" valign=\"top\">\\n         <span class=\"rank\">\\n          26.\\n         </span>\\n        </td>\\n        <td class=\"votelinks\" valign=\"top\">\\n         <center>\\n          <a href=\"vote?id=34756156&amp;how=up&amp;goto=news\" id=\"up_34756156\">\\n           <div class=\"votearrow\" title=\"upvote\">\\n           </div>\\n          </a>\\n         </center>\\n        </td>\\n        <td class=\"title\">\\n         <span class=\"titleline\">\\n          <a href=\"https://github.com/Nevin1901/erlog\">\\n           Show HN: Log collector that runs on a $4 VPS\\n          </a>\\n          <span class=\"sitebit comhead\">\\n           (\\n           <a href=\"from?site=github.com/nevin1901\">\\n            <span class=\"sitestr\">\\n             github.com/nevin1901\\n            </span>\\n           </a>\\n           )\\n          </span>\\n         </span>\\n        </td>\\n       </tr>\\n       <tr>\\n        <td colspan=\"2\">\\n        </td>\\n        <td class=\"subtext\">\\n         <span class=\"subline\">\\n          <span class=\"score\" id=\"score_34756156\">\\n           58 points\\n          </span>\\n          by\\n          <a class=\"hnuser\" href=\"user?id=Nevin1901\">\\n           Nevin1901\\n          </a>\\n          <span class=\"age\" title=\"2023-02-11T20:44:32\">\\n           <a href=\"item?id=34756156\">\\n            8 hours ago\\n           </a>\\n          </span>\\n          <span id=\"unv_34756156\">\\n          </span>\\n          |\\n          <a href=\"hide?id=34756156&amp;goto=news\">\\n           hide\\n          </a>\\n          |\\n          <a href=\"item?id=34756156\">\\n           28\\xa0comments\\n          </a>\\n         </span>\\n        </td>\\n       </tr>\\n       <tr class=\"spacer\" style=\"height:5px\">\\n       </tr>\\n       <tr class=\"athing\" id=\"34758144\">\\n        <td align=\"right\" class=\"title\" valign=\"top\">\\n         <span class=\"rank\">\\n          27.\\n         </span>\\n        </td>\\n        <td class=\"votelinks\" valign=\"top\">\\n         <center>\\n          <a href=\"vote?id=34758144&amp;how=up&amp;goto=news\" id=\"up_34758144\">\\n           <div class=\"votearrow\" title=\"upvote\">\\n           </div>\\n          </a>\\n         </center>\\n        </td>\\n        <td class=\"title\">\\n         <span class=\"titleline\">\\n          <a href=\"https://www.fullstackeconomics.com/p/dont-force-child-care-workers-to\">\\n           Don’t force child care workers to get college degrees\\n          </a>\\n          <span class=\"sitebit comhead\">\\n           (\\n           <a href=\"from?site=fullstackeconomics.com\">\\n            <span class=\"sitestr\">\\n             fullstackeconomics.com\\n            </span>\\n           </a>\\n           )\\n          </span>\\n         </span>\\n        </td>\\n       </tr>\\n       <tr>\\n        <td colspan=\"2\">\\n        </td>\\n        <td class=\"subtext\">\\n         <span class=\"subline\">\\n          <span class=\"score\" id=\"score_34758144\">\\n           45 points\\n          </span>\\n          by\\n          <a class=\"hnuser\" href=\"user?id=exolymph\">\\n           exolymph\\n          </a>\\n          <span class=\"age\" title=\"2023-02-12T00:44:07\">\\n           <a href=\"item?id=34758144\">\\n            4 hours ago\\n           </a>\\n          </span>\\n          <span id=\"unv_34758144\">\\n          </span>\\n          |\\n          <a href=\"hide?id=34758144&amp;goto=news\">\\n           hide\\n          </a>\\n          |\\n          <a href=\"item?id=34758144\">\\n           13\\xa0comments\\n          </a>\\n         </span>\\n        </td>\\n       </tr>\\n       <tr class=\"spacer\" style=\"height:5px\">\\n       </tr>\\n       <tr class=\"athing\" id=\"34736662\">\\n        <td align=\"right\" class=\"title\" valign=\"top\">\\n         <span class=\"rank\">\\n          28.\\n         </span>\\n        </td>\\n        <td class=\"votelinks\" valign=\"top\">\\n         <center>\\n          <a href=\"vote?id=34736662&amp;how=up&amp;goto=news\" id=\"up_34736662\">\\n           <div class=\"votearrow\" title=\"upvote\">\\n           </div>\\n          </a>\\n         </center>\\n        </td>\\n        <td class=\"title\">\\n         <span class=\"titleline\">\\n          <a href=\"https://lwn.net/Articles/921497/\">\\n           Using low-cost wireless sensors in the unlicensed bands\\n          </a>\\n          <span class=\"sitebit comhead\">\\n           (\\n           <a href=\"from?site=lwn.net\">\\n            <span class=\"sitestr\">\\n             lwn.net\\n            </span>\\n           </a>\\n           )\\n          </span>\\n         </span>\\n        </td>\\n       </tr>\\n       <tr>\\n        <td colspan=\"2\">\\n        </td>\\n        <td class=\"subtext\">\\n         <span class=\"subline\">\\n          <span class=\"score\" id=\"score_34736662\">\\n           60 points\\n          </span>\\n          by\\n          <a class=\"hnuser\" href=\"user?id=signa11\">\\n           signa11\\n          </a>\\n          <span class=\"age\" title=\"2023-02-10T07:17:03\">\\n           <a href=\"item?id=34736662\">\\n            12 hours ago\\n           </a>\\n          </span>\\n          <span id=\"unv_34736662\">\\n          </span>\\n          |\\n          <a href=\"hide?id=34736662&amp;goto=news\">\\n           hide\\n          </a>\\n          |\\n          <a href=\"item?id=34736662\">\\n           5\\xa0comments\\n          </a>\\n         </span>\\n        </td>\\n       </tr>\\n       <tr class=\"spacer\" style=\"height:5px\">\\n       </tr>\\n       <tr class=\"athing\" id=\"34758283\">\\n        <td align=\"right\" class=\"title\" valign=\"top\">\\n         <span class=\"rank\">\\n          29.\\n         </span>\\n        </td>\\n        <td class=\"votelinks\" valign=\"top\">\\n         <center>\\n          <a href=\"vote?id=34758283&amp;how=up&amp;goto=news\" id=\"up_34758283\">\\n           <div class=\"votearrow\" title=\"upvote\">\\n           </div>\\n          </a>\\n         </center>\\n        </td>\\n        <td class=\"title\">\\n         <span class=\"titleline\">\\n          <a href=\"https://twitter.com/IntelCrab/status/1624569071583854596\">\\n           NOTAM: Montana airspace temporarily restricted for national defense purposes\\n          </a>\\n          <span class=\"sitebit comhead\">\\n           (\\n           <a href=\"from?site=twitter.com/intelcrab\">\\n            <span class=\"sitestr\">\\n             twitter.com/intelcrab\\n            </span>\\n           </a>\\n           )\\n          </span>\\n         </span>\\n        </td>\\n       </tr>\\n       <tr>\\n        <td colspan=\"2\">\\n        </td>\\n        <td class=\"subtext\">\\n         <span class=\"subline\">\\n          <span class=\"score\" id=\"score_34758283\">\\n           76 points\\n          </span>\\n          by\\n          <a class=\"hnuser\" href=\"user?id=anigbrowl\">\\n           anigbrowl\\n          </a>\\n          <span class=\"age\" title=\"2023-02-12T01:03:23\">\\n           <a href=\"item?id=34758283\">\\n            4 hours ago\\n           </a>\\n          </span>\\n          <span id=\"unv_34758283\">\\n          </span>\\n          |\\n          <a href=\"hide?id=34758283&amp;goto=news\">\\n           hide\\n          </a>\\n          |\\n          <a href=\"item?id=34758283\">\\n           16\\xa0comments\\n          </a>\\n         </span>\\n        </td>\\n       </tr>\\n       <tr class=\"spacer\" style=\"height:5px\">\\n       </tr>\\n       <tr class=\"athing\" id=\"34759094\">\\n        <td align=\"right\" class=\"title\" valign=\"top\">\\n         <span class=\"rank\">\\n          30.\\n         </span>\\n        </td>\\n        <td class=\"votelinks\" valign=\"top\">\\n         <center>\\n          <a href=\"vote?id=34759094&amp;how=up&amp;goto=news\" id=\"up_34759094\">\\n           <div class=\"votearrow\" title=\"upvote\">\\n           </div>\\n          </a>\\n         </center>\\n        </td>\\n        <td class=\"title\">\\n         <span class=\"titleline\">\\n          <a href=\"https://en.wikipedia.org/wiki/Warnock%27s_dilemma\">\\n           Warnock\\'s dilemma\\n          </a>\\n          <span class=\"sitebit comhead\">\\n           (\\n           <a href=\"from?site=wikipedia.org\">\\n            <span class=\"sitestr\">\\n             wikipedia.org\\n            </span>\\n           </a>\\n           )\\n          </span>\\n         </span>\\n        </td>\\n       </tr>\\n       <tr>\\n        <td colspan=\"2\">\\n        </td>\\n        <td class=\"subtext\">\\n         <span class=\"subline\">\\n          <span class=\"score\" id=\"score_34759094\">\\n           33 points\\n          </span>\\n          by\\n          <a class=\"hnuser\" href=\"user?id=emmelaich\">\\n           emmelaich\\n          </a>\\n          <span class=\"age\" title=\"2023-02-12T02:41:28\">\\n           <a href=\"item?id=34759094\">\\n            2 hours ago\\n           </a>\\n          </span>\\n          <span id=\"unv_34759094\">\\n          </span>\\n          |\\n          <a href=\"hide?id=34759094&amp;goto=news\">\\n           hide\\n          </a>\\n          |\\n          <a href=\"item?id=34759094\">\\n           8\\xa0comments\\n          </a>\\n         </span>\\n        </td>\\n       </tr>\\n       <tr class=\"spacer\" style=\"height:5px\">\\n       </tr>\\n       <tr class=\"morespace\" style=\"height:10px\">\\n       </tr>\\n       <tr>\\n        <td colspan=\"2\">\\n        </td>\\n        <td class=\"title\">\\n         <a class=\"morelink\" href=\"?p=2\" rel=\"next\">\\n          More\\n         </a>\\n        </td>\\n       </tr>\\n      </table>\\n     </td>\\n    </tr>\\n    <tr>\\n     <td>\\n      <img height=\"10\" src=\"s.gif\" width=\"0\"/>\\n      <table cellpadding=\"1\" cellspacing=\"0\" width=\"100%\">\\n       <tr>\\n        <td bgcolor=\"#ff6600\">\\n        </td>\\n       </tr>\\n      </table>\\n      <br/>\\n      <center>\\n       <span class=\"yclinks\">\\n        <a href=\"newsguidelines.html\">\\n         Guidelines\\n        </a>\\n        |\\n        <a href=\"newsfaq.html\">\\n         FAQ\\n        </a>\\n        |\\n        <a href=\"lists\">\\n         Lists\\n        </a>\\n        |\\n        <a href=\"https://github.com/HackerNews/API\">\\n         API\\n        </a>\\n        |\\n        <a href=\"security.html\">\\n         Security\\n        </a>\\n        |\\n        <a href=\"https://www.ycombinator.com/legal/\">\\n         Legal\\n        </a>\\n        |\\n        <a href=\"https://www.ycombinator.com/apply/\">\\n         Apply to YC\\n        </a>\\n        |\\n        <a href=\"mailto:hn@ycombinator.com\">\\n         Contact\\n        </a>\\n       </span>\\n       <br/>\\n       <br/>\\n       <form action=\"//hn.algolia.com/\" method=\"get\">\\n        Search:\\n        <input autocapitalize=\"off\" autocomplete=\"false\" autocorrect=\"off\" name=\"q\" size=\"17\" spellcheck=\"false\" type=\"text\"/>\\n       </form>\\n      </center>\\n     </td>\\n    </tr>\\n   </table>\\n  </center>\\n </body>\\n <script src=\"hn.js?UlRwqcQ6gkTRZD4ed0wz\" type=\"text/javascript\">\\n </script>\\n</html>\\n'"
            ],
            "application/vnd.google.colaboratory.intrinsic+json": {
              "type": "string"
            }
          },
          "metadata": {},
          "execution_count": 4
        }
      ]
    },
    {
      "cell_type": "code",
      "source": [
        "article = soup.find(name='span', class_='titleline')\n",
        "article.find(name='a').getText()"
      ],
      "metadata": {
        "colab": {
          "base_uri": "https://localhost:8080/",
          "height": 36
        },
        "id": "2oD9L9aPq_Eq",
        "outputId": "d42892aa-f247-4ce3-89a6-fbac116c1134"
      },
      "execution_count": 5,
      "outputs": [
        {
          "output_type": "execute_result",
          "data": {
            "text/plain": [
              "'StarFighter 16 inch: 4K Coreboot/Ryzen Linux laptop'"
            ],
            "application/vnd.google.colaboratory.intrinsic+json": {
              "type": "string"
            }
          },
          "metadata": {},
          "execution_count": 5
        }
      ]
    },
    {
      "cell_type": "code",
      "source": [
        "articles = soup.find_all(name='span', class_='titleline')\n",
        "article_titles = []\n",
        "for article in articles:\n",
        "\n",
        "    title = article.find(name='a').getText()\n",
        "    article_titles.append(title)\n",
        "\n",
        "print(article_titles)"
      ],
      "metadata": {
        "colab": {
          "base_uri": "https://localhost:8080/"
        },
        "id": "QC3SVzHeVGhJ",
        "outputId": "05387767-a4e2-4fbb-8896-d89f0b570a17"
      },
      "execution_count": 6,
      "outputs": [
        {
          "output_type": "stream",
          "name": "stdout",
          "text": [
            "['StarFighter 16 inch: 4K Coreboot/Ryzen Linux laptop', 'Aurora', 'The <Dialog> Element', 'A Heisenbug lurking in async Python', 'Deteriorating Mitochondria Linked to Major Depression in Older Adults', 'Advertising Tips for Computer Number System Designers (2021) [pdf]', 'Trove of spices from around the world on sunken fifteenth-century Norse ship', 'SafeButler (YC S17) Is Hiring Business Development', 'Pangram', 'Toward policy for open-source software as infrastructure', 'Is it illegal to plug in a device to watch BBC iPlayer or Live TV in Starbucks?', 'How to train large models on many GPUs? (2021)', 'Toolformer: Language models can teach themselves to use tools', 'Another UFO shot down over Canada by US', 'I gained a new appreciation for Test Driven Development', 'Why does the SARS-Cov2 genome end in aaaaaaaaaaaaaaaaaaaaaaaaaaaaaaaaa? (2020)', 'Deep learning for twelve hour precipitation forecasts', 'U.S. FAA closes some airspace in Montana for Defense Department activities', \"Silicon reverse-engineering: the Intel 8086 processor's flag circuitry\", 'Show HN: G-Script – Visual Scripting for the Web', 'Microsoft failed to rotate certificates for winget CDN on time', 'A Jim Simons Market Mystery, Solved?', 'Toolformer: Language Models Can Teach Themselves to Use Tools', 'U.S. Representative Comments on New “Object” over Montana', 'The New York City Kosher Meat Boycott of 1902', 'Show HN: Log collector that runs on a $4 VPS', 'Don’t force child care workers to get college degrees', 'Using low-cost wireless sensors in the unlicensed bands', 'NOTAM: Montana airspace temporarily restricted for national defense purposes', \"Warnock's dilemma\"]\n"
          ]
        }
      ]
    },
    {
      "cell_type": "code",
      "source": [
        "article_links = []\n",
        "for article in articles:\n",
        "    article = article.find(name='a')\n",
        "    \n",
        "    link = article.get(\"href\")\n",
        "    article_links.append(link)\n",
        "\n",
        "print(article_links)"
      ],
      "metadata": {
        "colab": {
          "base_uri": "https://localhost:8080/"
        },
        "id": "AbE8_qJ1sZvt",
        "outputId": "f7155ff0-3558-4c14-c9e6-becafb6aadad"
      },
      "execution_count": 7,
      "outputs": [
        {
          "output_type": "stream",
          "name": "stdout",
          "text": [
            "['https://starlabs.systems/pages/starfighter', 'https://www.drawaurora.com/', 'https://developer.mozilla.org/en-US/docs/Web/HTML/Element/dialog', 'https://textual.textualize.io/blog/2023/02/11/the-heisenbug-lurking-in-your-async-code/', 'https://today.uconn.edu/2023/02/mitochondria-linked-to-major-depression-in-older-adults/', 'https://perso.ens-lyon.fr/jean-michel.muller/advertising.pdf', 'https://phys.org/news/2023-02-trove-spices-world-sunken-fifteenth-century.html', 'https://www.safebutler.com/careers', 'https://en.wikipedia.org/wiki/Pangram', 'https://www.atlanticcouncil.org/in-depth-research-reports/report/open-source-software-as-infrastructure/', 'https://law.stackexchange.com/questions/89138/it-is-really-illegal-to-plug-in-a-device-to-watch-bbc-iplayer-or-live-tv-in-a-st', 'https://lilianweng.github.io/posts/2021-09-25-train-large/', 'https://arxiv.org/abs/2302.04761', 'https://www.reuters.com/world/us/us-still-gives-no-details-about-alaska-ufo-new-object-seen-over-canada-2023-02-11/', 'https://www.worthe-it.co.za/blog/2023-02-09-i-was-saved-by-test-driven-development.html', 'https://bioinformatics.stackexchange.com/questions/11227/why-does-the-sars-cov2-coronavirus-genome-end-in-aaaaaaaaaaaaaaaaaaaaaaaaaaaaaaa', 'https://www.nature.com/articles/s41467-022-32483-x', 'https://www.reuters.com/article/usa-object-montana-idUSL1N34S008', 'http://www.righto.com/2023/02/silicon-reverse-engineering-intel-8086.html', 'https://g-script.io/', 'https://cdn.winget.microsoft.com/cache', 'https://www.institutionalinvestor.com/article/b8xc1b3bzfrk3m/A-Jim-Simons-Market-Mystery-Solved', 'https://arxiv.org/abs/2302.04761', 'https://twitter.com/reprosendale/status/1624579901608034306', 'https://daily.jstor.org/inside-the-new-york-city-kosher-meat-boycott-of-1902/', 'https://github.com/Nevin1901/erlog', 'https://www.fullstackeconomics.com/p/dont-force-child-care-workers-to', 'https://lwn.net/Articles/921497/', 'https://twitter.com/IntelCrab/status/1624569071583854596', 'https://en.wikipedia.org/wiki/Warnock%27s_dilemma']\n"
          ]
        }
      ]
    },
    {
      "cell_type": "markdown",
      "source": [
        "### Getting the most upvoted article"
      ],
      "metadata": {
        "id": "h5PulN5nVjnE"
      }
    },
    {
      "cell_type": "code",
      "source": [
        "article_upvotes = [int(score.getText().split()[0]) for score in soup.find_all(name=\"span\", class_=\"score\")]\n",
        "\n",
        "largest_number = max(article_upvotes)\n",
        "largest_index = article_upvotes.index(largest_number)\n",
        "\n",
        "print(article_titles[largest_index])\n",
        "print(article_links[largest_index])"
      ],
      "metadata": {
        "colab": {
          "base_uri": "https://localhost:8080/"
        },
        "id": "zL-eo2GxVpAJ",
        "outputId": "41c00978-af02-4684-ce32-6de1ec36dfbb"
      },
      "execution_count": 8,
      "outputs": [
        {
          "output_type": "stream",
          "name": "stdout",
          "text": [
            "A Heisenbug lurking in async Python\n",
            "https://textual.textualize.io/blog/2023/02/11/the-heisenbug-lurking-in-your-async-code/\n"
          ]
        }
      ]
    },
    {
      "cell_type": "markdown",
      "source": [
        "# Scraping from Billboard top 100 songs"
      ],
      "metadata": {
        "id": "-cmY6e6_tfnW"
      }
    },
    {
      "cell_type": "code",
      "source": [
        "billboard_response = requests.get('https://www.billboard.com/charts/greatest-hot-100-singles/')\n",
        "billboard_html = response.text\n",
        "soup = BeautifulSoup(billboard_html, 'html.parser')"
      ],
      "metadata": {
        "id": "6NO10MPPJOB_"
      },
      "execution_count": 49,
      "outputs": []
    },
    {
      "cell_type": "code",
      "source": [
        "song_tags = soup.find_all(name='h3', class_='c-title')\n",
        "for tag in song_tags:\n",
        "    print(tag.getText().strip())"
      ],
      "metadata": {
        "id": "wNVQhAyJwuy7",
        "colab": {
          "base_uri": "https://localhost:8080/"
        },
        "collapsed": true,
        "outputId": "7462f035-24ad-4710-9f0c-c02c96e73b58"
      },
      "execution_count": 50,
      "outputs": [
        {
          "output_type": "stream",
          "name": "stdout",
          "text": [
            "Blinding Lights\n",
            "The Twist\n",
            "Smooth\n",
            "Mack The Knife\n",
            "Uptown Funk!\n",
            "How Do I Live\n",
            "Party Rock Anthem\n",
            "I Gotta Feeling\n",
            "Macarena (Bayside Boys Mix)\n",
            "Shape Of You\n",
            "Physical\n",
            "You Light Up My Life\n",
            "Hey Jude\n",
            "Closer\n",
            "We Belong Together\n",
            "Un-Break My Heart\n",
            "Yeah!\n",
            "Bette Davis Eyes\n",
            "Circles\n",
            "Endless Love\n",
            "Tonight's The Night (Gonna Be Alright)\n",
            "Foolish Games/You Were Meant For Me\n",
            "(Everything I Do) I Do It For You\n",
            "I'Ll Make Love To You\n",
            "The Theme From \"A Summer Place\"\n",
            "Le Freak\n",
            "How Deep Is Your Love\n",
            "Eye Of The Tiger\n",
            "We Found Love\n",
            "Girls Like You\n",
            "Low\n",
            "Levitating\n",
            "I Just Want To Be Your Everything\n",
            "Too Close\n",
            "Every Breath You Take\n",
            "Somebody That I Used To Know\n",
            "Despacito\n",
            "Flashdance...What A Feeling\n",
            "Rolling In The Deep\n",
            "Tossin' And Turnin'\n",
            "Old Town Road\n",
            "The Battle Of New Orleans\n",
            "One Sweet Day\n",
            "Truly Madly Deeply\n",
            "Silly Love Songs\n",
            "Let's Get It On\n",
            "Night Fever\n",
            "Another One Bites The Dust\n",
            "Mood\n",
            "Say Say Say\n",
            "How You Remind Me\n",
            "Tie A Yellow Ribbon Round The Ole Oak Tree\n",
            "It's All In The Game\n",
            "I Want To Hold Your Hand\n",
            "Shadow Dancing\n",
            "Call Me Maybe\n",
            "Blurred Lines\n",
            "Candle In The Wind 1997/Something About The Way You Look Tonight\n",
            "No One\n",
            "I Will Always Love You\n",
            "End Of The Road\n",
            "Perfect\n",
            "Boom Boom Pow\n",
            "Call Me\n",
            "Let Me Love You\n",
            "Stayin' Alive\n",
            "Lady\n",
            "Tik Tok\n",
            "I'm A Believer\n",
            "Gold Digger\n",
            "Apologize\n",
            "The Sign\n",
            "Centerfold\n",
            "All About That Bass\n",
            "Sunflower (Spider-Man: Into The Spider-Verse)\n",
            "(Just Like) Starting Over\n",
            "Royals\n",
            "The Boy Is Mine\n",
            "Because I Love You (The Postman Song)\n",
            "I Love Rock 'N Roll\n",
            "Aquarius/Let The Sunshine In (The Flesh Failures)\n",
            "Whoomp! (There It Is)\n",
            "God's Plan\n",
            "Moves Like Jagger\n",
            "Ebony And Ivory\n",
            "Rush Rush\n",
            "That's What Friends Are For\n",
            "Happy\n",
            "Upside Down\n",
            "Sugar, Sugar\n",
            "Just The Way You Are\n",
            "Dilemma\n",
            "I Heard It Through The Grapevine\n",
            "You're Still The One\n",
            "Billie Jean\n",
            "Hot Stuff\n",
            "Rockstar\n",
            "Gangsta's Paradise\n",
            "Abracadabra\n",
            "You're So Vain\n",
            "Inside the Implosion of Justin Roiland’s Animation Empire\n",
            "Emily Ratajkowski Freed the Nipple in a Sheer All-Brown Ensemble That Proves She’s in Her Most Confident Era Yet\n",
            "50 Cent Understands When Nicki Minaj Gets Upset, Says Cardi B Is Living \"The American Dream\"\n",
            "Robert Pattinson, Suki Waterhouse Buy Updated Spanish Colonial in the Hills\n",
            "Rose Byrne Says She Was Terrified to Pitch ‘Seriously Red’ to Dolly Parton to “Get Her Blessing”\n",
            "Trey Songz, Kevin Liles, And Atlantic Records Sued For $25M In Rape Claim\n",
            "Rihanna’s Viral and Most-searched Looks Through the Years: From Meme Inspiration to Maternity Glamour\n",
            "Manchester United Bids Come In, Qatari Group and Ratcliffe Expected\n",
            "Harry Styles Thanks One Direction, Calls Out Male Privilege at Brit Awards\n",
            "Follow Us\n",
            "Have a Tip?\n",
            "The Daily\n",
            "Have a Tip?\n"
          ]
        }
      ]
    },
    {
      "cell_type": "code",
      "source": [
        "artist_tags = soup.find_all(name='span', class_='c-label')\n",
        "for tag in artist_tags:\n",
        "    print(tag.getText().strip())"
      ],
      "metadata": {
        "colab": {
          "base_uri": "https://localhost:8080/"
        },
        "collapsed": true,
        "id": "YHYLmZN_JMou",
        "outputId": "9f4c11b1-b613-49e1-b291-b7789c5d79af"
      },
      "execution_count": 51,
      "outputs": [
        {
          "output_type": "stream",
          "name": "stdout",
          "text": [
            "1\n",
            "The Weeknd\n",
            "2\n",
            "Chubby Checker\n",
            "3\n",
            "Santana Featuring Rob Thomas\n",
            "4\n",
            "Bobby Darin\n",
            "5\n",
            "Mark Ronson Featuring Bruno Mars\n",
            "6\n",
            "LeAnn Rimes\n",
            "7\n",
            "LMFAO Featuring Lauren Bennett & GoonRock\n",
            "8\n",
            "The Black Eyed Peas\n",
            "9\n",
            "Los Del Rio\n",
            "10\n",
            "Ed Sheeran\n",
            "11\n",
            "Olivia Newton-John\n",
            "12\n",
            "Debby Boone\n",
            "13\n",
            "The Beatles\n",
            "14\n",
            "The Chainsmokers Featuring Halsey\n",
            "15\n",
            "Mariah Carey\n",
            "16\n",
            "Toni Braxton\n",
            "17\n",
            "Usher Featuring Lil Jon & Ludacris\n",
            "18\n",
            "Kim Carnes\n",
            "19\n",
            "Post Malone\n",
            "20\n",
            "Diana Ross & Lionel Richie\n",
            "21\n",
            "Rod Stewart\n",
            "22\n",
            "Jewel\n",
            "23\n",
            "Bryan Adams\n",
            "24\n",
            "Boyz II Men\n",
            "25\n",
            "Percy Faith And His Orchestra\n",
            "26\n",
            "Chic\n",
            "27\n",
            "Bee Gees\n",
            "28\n",
            "Survivor\n",
            "29\n",
            "Rihanna Featuring Calvin Harris\n",
            "30\n",
            "Maroon 5 Featuring Cardi B\n",
            "31\n",
            "Flo Rida Featuring T-Pain\n",
            "32\n",
            "Dua Lipa\n",
            "33\n",
            "Andy Gibb\n",
            "34\n",
            "Next\n",
            "35\n",
            "The Police\n",
            "36\n",
            "Gotye Featuring Kimbra\n",
            "37\n",
            "Luis Fonsi & Daddy Yankee Featuring Justin Bieber\n",
            "38\n",
            "Irene Cara\n",
            "39\n",
            "Adele\n",
            "40\n",
            "Bobby Lewis\n",
            "41\n",
            "Lil Nas X Featuring Billy Ray Cyrus\n",
            "42\n",
            "Johnny Horton\n",
            "43\n",
            "Mariah Carey & Boyz II Men\n",
            "44\n",
            "Savage Garden\n",
            "45\n",
            "Wings\n",
            "46\n",
            "Marvin Gaye\n",
            "47\n",
            "Bee Gees\n",
            "48\n",
            "Queen\n",
            "49\n",
            "24kGoldn Featuring iann dior\n",
            "50\n",
            "Paul McCartney And Michael Jackson\n",
            "51\n",
            "Nickelback\n",
            "52\n",
            "Dawn Featuring Tony Orlando\n",
            "53\n",
            "Tommy Edwards\n",
            "54\n",
            "The Beatles\n",
            "55\n",
            "Andy Gibb\n",
            "56\n",
            "Carly Rae Jepsen\n",
            "57\n",
            "Robin Thicke Featuring T.I. + Pharrell\n",
            "58\n",
            "Elton John\n",
            "59\n",
            "Alicia Keys\n",
            "60\n",
            "Whitney Houston\n",
            "61\n",
            "Boyz II Men\n",
            "62\n",
            "Ed Sheeran\n",
            "63\n",
            "The Black Eyed Peas\n",
            "64\n",
            "Blondie\n",
            "65\n",
            "Mario\n",
            "66\n",
            "Bee Gees\n",
            "67\n",
            "Kenny Rogers\n",
            "68\n",
            "Ke$ha\n",
            "69\n",
            "The Monkees\n",
            "70\n",
            "Kanye West Featuring Jamie Foxx\n",
            "71\n",
            "Timbaland Featuring OneRepublic\n",
            "72\n",
            "Ace Of Base\n",
            "73\n",
            "The J. Geils Band\n",
            "74\n",
            "Meghan Trainor\n",
            "75\n",
            "Post Malone & Swae Lee\n",
            "76\n",
            "John Lennon\n",
            "77\n",
            "Lorde\n",
            "78\n",
            "Brandy & Monica\n",
            "79\n",
            "Stevie B\n",
            "80\n",
            "Joan Jett & The Blackhearts\n",
            "81\n",
            "The 5th Dimension\n",
            "82\n",
            "Tag Team\n",
            "83\n",
            "Drake\n",
            "84\n",
            "Maroon 5 Featuring Christina Aguilera\n",
            "85\n",
            "Paul McCartney And Stevie Wonder\n",
            "86\n",
            "Paula Abdul\n",
            "87\n",
            "Dionne & Friends Featuring Elton John, Gladys Knight And Stevie Wonder\n",
            "88\n",
            "Pharrell Williams\n",
            "89\n",
            "Diana Ross\n",
            "90\n",
            "The Archies\n",
            "91\n",
            "Bruno Mars\n",
            "92\n",
            "Nelly Featuring Kelly Rowland\n",
            "93\n",
            "Marvin Gaye\n",
            "94\n",
            "Shania Twain\n",
            "95\n",
            "Michael Jackson\n",
            "96\n",
            "Donna Summer\n",
            "97\n",
            "Post Malone Featuring 21 Savage\n",
            "98\n",
            "Coolio Featuring L.V.\n",
            "99\n",
            "The Steve Miller Band\n",
            "100\n",
            "Carly Simon\n"
          ]
        }
      ]
    },
    {
      "cell_type": "code",
      "source": [
        "images = soup.find_all(name='img', class_='c-lazy-image__img')\n",
        "for image in images:\n",
        "    print(image.get('src'))"
      ],
      "metadata": {
        "colab": {
          "base_uri": "https://localhost:8080/"
        },
        "id": "TPlY1NHlR5xW",
        "outputId": "b6f5b3f9-f662-4c17-8bfa-04c3c5f304a4"
      },
      "execution_count": 45,
      "outputs": [
        {
          "output_type": "stream",
          "name": "stdout",
          "text": [
            "https://www.billboard.com/wp-content/themes/vip/pmc-billboard-2021/assets/public/lazyload-fallback.gif\n",
            "https://www.billboard.com/wp-content/themes/vip/pmc-billboard-2021/assets/public/lazyload-fallback.gif\n",
            "https://www.billboard.com/wp-content/themes/vip/pmc-billboard-2021/assets/public/lazyload-fallback.gif\n",
            "https://www.billboard.com/wp-content/themes/vip/pmc-billboard-2021/assets/public/lazyload-fallback.gif\n",
            "https://www.billboard.com/wp-content/themes/vip/pmc-billboard-2021/assets/public/lazyload-fallback.gif\n",
            "https://www.billboard.com/wp-content/themes/vip/pmc-billboard-2021/assets/public/lazyload-fallback.gif\n",
            "https://www.billboard.com/wp-content/themes/vip/pmc-billboard-2021/assets/public/lazyload-fallback.gif\n",
            "https://www.billboard.com/wp-content/themes/vip/pmc-billboard-2021/assets/public/lazyload-fallback.gif\n",
            "https://www.billboard.com/wp-content/themes/vip/pmc-billboard-2021/assets/public/lazyload-fallback.gif\n",
            "https://www.billboard.com/wp-content/themes/vip/pmc-billboard-2021/assets/public/lazyload-fallback.gif\n",
            "https://www.billboard.com/wp-content/themes/vip/pmc-billboard-2021/assets/public/lazyload-fallback.gif\n",
            "https://www.billboard.com/wp-content/themes/vip/pmc-billboard-2021/assets/public/lazyload-fallback.gif\n",
            "https://www.billboard.com/wp-content/themes/vip/pmc-billboard-2021/assets/public/lazyload-fallback.gif\n",
            "https://www.billboard.com/wp-content/themes/vip/pmc-billboard-2021/assets/public/lazyload-fallback.gif\n",
            "https://www.billboard.com/wp-content/themes/vip/pmc-billboard-2021/assets/public/lazyload-fallback.gif\n",
            "https://www.billboard.com/wp-content/themes/vip/pmc-billboard-2021/assets/public/lazyload-fallback.gif\n",
            "https://www.billboard.com/wp-content/themes/vip/pmc-billboard-2021/assets/public/lazyload-fallback.gif\n",
            "https://www.billboard.com/wp-content/themes/vip/pmc-billboard-2021/assets/public/lazyload-fallback.gif\n",
            "https://www.billboard.com/wp-content/themes/vip/pmc-billboard-2021/assets/public/lazyload-fallback.gif\n",
            "https://www.billboard.com/wp-content/themes/vip/pmc-billboard-2021/assets/public/lazyload-fallback.gif\n",
            "https://www.billboard.com/wp-content/themes/vip/pmc-billboard-2021/assets/public/lazyload-fallback.gif\n",
            "https://www.billboard.com/wp-content/themes/vip/pmc-billboard-2021/assets/public/lazyload-fallback.gif\n",
            "https://www.billboard.com/wp-content/themes/vip/pmc-billboard-2021/assets/public/lazyload-fallback.gif\n",
            "https://www.billboard.com/wp-content/themes/vip/pmc-billboard-2021/assets/public/lazyload-fallback.gif\n",
            "https://www.billboard.com/wp-content/themes/vip/pmc-billboard-2021/assets/public/lazyload-fallback.gif\n",
            "https://www.billboard.com/wp-content/themes/vip/pmc-billboard-2021/assets/public/lazyload-fallback.gif\n",
            "https://www.billboard.com/wp-content/themes/vip/pmc-billboard-2021/assets/public/lazyload-fallback.gif\n",
            "https://www.billboard.com/wp-content/themes/vip/pmc-billboard-2021/assets/public/lazyload-fallback.gif\n",
            "https://www.billboard.com/wp-content/themes/vip/pmc-billboard-2021/assets/public/lazyload-fallback.gif\n",
            "https://www.billboard.com/wp-content/themes/vip/pmc-billboard-2021/assets/public/lazyload-fallback.gif\n",
            "https://www.billboard.com/wp-content/themes/vip/pmc-billboard-2021/assets/public/lazyload-fallback.gif\n",
            "https://www.billboard.com/wp-content/themes/vip/pmc-billboard-2021/assets/public/lazyload-fallback.gif\n",
            "https://www.billboard.com/wp-content/themes/vip/pmc-billboard-2021/assets/public/lazyload-fallback.gif\n",
            "https://www.billboard.com/wp-content/themes/vip/pmc-billboard-2021/assets/public/lazyload-fallback.gif\n",
            "https://www.billboard.com/wp-content/themes/vip/pmc-billboard-2021/assets/public/lazyload-fallback.gif\n",
            "https://www.billboard.com/wp-content/themes/vip/pmc-billboard-2021/assets/public/lazyload-fallback.gif\n",
            "https://www.billboard.com/wp-content/themes/vip/pmc-billboard-2021/assets/public/lazyload-fallback.gif\n",
            "https://www.billboard.com/wp-content/themes/vip/pmc-billboard-2021/assets/public/lazyload-fallback.gif\n",
            "https://www.billboard.com/wp-content/themes/vip/pmc-billboard-2021/assets/public/lazyload-fallback.gif\n",
            "https://www.billboard.com/wp-content/themes/vip/pmc-billboard-2021/assets/public/lazyload-fallback.gif\n",
            "https://www.billboard.com/wp-content/themes/vip/pmc-billboard-2021/assets/public/lazyload-fallback.gif\n",
            "https://www.billboard.com/wp-content/themes/vip/pmc-billboard-2021/assets/public/lazyload-fallback.gif\n",
            "https://www.billboard.com/wp-content/themes/vip/pmc-billboard-2021/assets/public/lazyload-fallback.gif\n",
            "https://www.billboard.com/wp-content/themes/vip/pmc-billboard-2021/assets/public/lazyload-fallback.gif\n",
            "https://www.billboard.com/wp-content/themes/vip/pmc-billboard-2021/assets/public/lazyload-fallback.gif\n",
            "https://www.billboard.com/wp-content/themes/vip/pmc-billboard-2021/assets/public/lazyload-fallback.gif\n",
            "https://www.billboard.com/wp-content/themes/vip/pmc-billboard-2021/assets/public/lazyload-fallback.gif\n",
            "https://www.billboard.com/wp-content/themes/vip/pmc-billboard-2021/assets/public/lazyload-fallback.gif\n",
            "https://www.billboard.com/wp-content/themes/vip/pmc-billboard-2021/assets/public/lazyload-fallback.gif\n",
            "https://www.billboard.com/wp-content/themes/vip/pmc-billboard-2021/assets/public/lazyload-fallback.gif\n",
            "https://www.billboard.com/wp-content/themes/vip/pmc-billboard-2021/assets/public/lazyload-fallback.gif\n",
            "https://www.billboard.com/wp-content/themes/vip/pmc-billboard-2021/assets/public/lazyload-fallback.gif\n",
            "https://www.billboard.com/wp-content/themes/vip/pmc-billboard-2021/assets/public/lazyload-fallback.gif\n",
            "https://www.billboard.com/wp-content/themes/vip/pmc-billboard-2021/assets/public/lazyload-fallback.gif\n",
            "https://www.billboard.com/wp-content/themes/vip/pmc-billboard-2021/assets/public/lazyload-fallback.gif\n",
            "https://www.billboard.com/wp-content/themes/vip/pmc-billboard-2021/assets/public/lazyload-fallback.gif\n",
            "https://www.billboard.com/wp-content/themes/vip/pmc-billboard-2021/assets/public/lazyload-fallback.gif\n",
            "https://www.billboard.com/wp-content/themes/vip/pmc-billboard-2021/assets/public/lazyload-fallback.gif\n",
            "https://www.billboard.com/wp-content/themes/vip/pmc-billboard-2021/assets/public/lazyload-fallback.gif\n",
            "https://www.billboard.com/wp-content/themes/vip/pmc-billboard-2021/assets/public/lazyload-fallback.gif\n",
            "https://www.billboard.com/wp-content/themes/vip/pmc-billboard-2021/assets/public/lazyload-fallback.gif\n",
            "https://www.billboard.com/wp-content/themes/vip/pmc-billboard-2021/assets/public/lazyload-fallback.gif\n",
            "https://www.billboard.com/wp-content/themes/vip/pmc-billboard-2021/assets/public/lazyload-fallback.gif\n",
            "https://www.billboard.com/wp-content/themes/vip/pmc-billboard-2021/assets/public/lazyload-fallback.gif\n",
            "https://www.billboard.com/wp-content/themes/vip/pmc-billboard-2021/assets/public/lazyload-fallback.gif\n",
            "https://www.billboard.com/wp-content/themes/vip/pmc-billboard-2021/assets/public/lazyload-fallback.gif\n",
            "https://www.billboard.com/wp-content/themes/vip/pmc-billboard-2021/assets/public/lazyload-fallback.gif\n",
            "https://www.billboard.com/wp-content/themes/vip/pmc-billboard-2021/assets/public/lazyload-fallback.gif\n",
            "https://www.billboard.com/wp-content/themes/vip/pmc-billboard-2021/assets/public/lazyload-fallback.gif\n",
            "https://www.billboard.com/wp-content/themes/vip/pmc-billboard-2021/assets/public/lazyload-fallback.gif\n",
            "https://www.billboard.com/wp-content/themes/vip/pmc-billboard-2021/assets/public/lazyload-fallback.gif\n",
            "https://www.billboard.com/wp-content/themes/vip/pmc-billboard-2021/assets/public/lazyload-fallback.gif\n",
            "https://www.billboard.com/wp-content/themes/vip/pmc-billboard-2021/assets/public/lazyload-fallback.gif\n",
            "https://www.billboard.com/wp-content/themes/vip/pmc-billboard-2021/assets/public/lazyload-fallback.gif\n",
            "https://www.billboard.com/wp-content/themes/vip/pmc-billboard-2021/assets/public/lazyload-fallback.gif\n",
            "https://www.billboard.com/wp-content/themes/vip/pmc-billboard-2021/assets/public/lazyload-fallback.gif\n",
            "https://www.billboard.com/wp-content/themes/vip/pmc-billboard-2021/assets/public/lazyload-fallback.gif\n",
            "https://www.billboard.com/wp-content/themes/vip/pmc-billboard-2021/assets/public/lazyload-fallback.gif\n",
            "https://www.billboard.com/wp-content/themes/vip/pmc-billboard-2021/assets/public/lazyload-fallback.gif\n",
            "https://www.billboard.com/wp-content/themes/vip/pmc-billboard-2021/assets/public/lazyload-fallback.gif\n",
            "https://www.billboard.com/wp-content/themes/vip/pmc-billboard-2021/assets/public/lazyload-fallback.gif\n",
            "https://www.billboard.com/wp-content/themes/vip/pmc-billboard-2021/assets/public/lazyload-fallback.gif\n",
            "https://www.billboard.com/wp-content/themes/vip/pmc-billboard-2021/assets/public/lazyload-fallback.gif\n",
            "https://www.billboard.com/wp-content/themes/vip/pmc-billboard-2021/assets/public/lazyload-fallback.gif\n",
            "https://www.billboard.com/wp-content/themes/vip/pmc-billboard-2021/assets/public/lazyload-fallback.gif\n",
            "https://www.billboard.com/wp-content/themes/vip/pmc-billboard-2021/assets/public/lazyload-fallback.gif\n",
            "https://www.billboard.com/wp-content/themes/vip/pmc-billboard-2021/assets/public/lazyload-fallback.gif\n",
            "https://www.billboard.com/wp-content/themes/vip/pmc-billboard-2021/assets/public/lazyload-fallback.gif\n",
            "https://www.billboard.com/wp-content/themes/vip/pmc-billboard-2021/assets/public/lazyload-fallback.gif\n",
            "https://www.billboard.com/wp-content/themes/vip/pmc-billboard-2021/assets/public/lazyload-fallback.gif\n",
            "https://www.billboard.com/wp-content/themes/vip/pmc-billboard-2021/assets/public/lazyload-fallback.gif\n",
            "https://www.billboard.com/wp-content/themes/vip/pmc-billboard-2021/assets/public/lazyload-fallback.gif\n",
            "https://www.billboard.com/wp-content/themes/vip/pmc-billboard-2021/assets/public/lazyload-fallback.gif\n",
            "https://www.billboard.com/wp-content/themes/vip/pmc-billboard-2021/assets/public/lazyload-fallback.gif\n",
            "https://www.billboard.com/wp-content/themes/vip/pmc-billboard-2021/assets/public/lazyload-fallback.gif\n",
            "https://www.billboard.com/wp-content/themes/vip/pmc-billboard-2021/assets/public/lazyload-fallback.gif\n",
            "https://www.billboard.com/wp-content/themes/vip/pmc-billboard-2021/assets/public/lazyload-fallback.gif\n",
            "https://www.billboard.com/wp-content/themes/vip/pmc-billboard-2021/assets/public/lazyload-fallback.gif\n",
            "https://www.billboard.com/wp-content/themes/vip/pmc-billboard-2021/assets/public/lazyload-fallback.gif\n",
            "https://www.billboard.com/wp-content/themes/vip/pmc-billboard-2021/assets/public/lazyload-fallback.gif\n",
            "https://www.billboard.com/wp-content/themes/vip/pmc-billboard-2021/assets/public/lazyload-fallback.gif\n",
            "https://www.billboard.com/wp-content/themes/vip/pmc-billboard-2021/assets/public/lazyload-fallback.gif\n",
            "https://www.billboard.com/wp-content/themes/vip/pmc-billboard-2021/assets/public/lazyload-fallback.gif\n",
            "https://www.billboard.com/wp-content/themes/vip/pmc-billboard-2021/assets/public/lazyload-fallback.gif\n",
            "https://www.billboard.com/wp-content/themes/vip/pmc-billboard-2021/assets/public/lazyload-fallback.gif\n",
            "\n"
          ]
        }
      ]
    },
    {
      "cell_type": "code",
      "source": [],
      "metadata": {
        "id": "GockEGDKTQWw"
      },
      "execution_count": null,
      "outputs": []
    }
  ]
}